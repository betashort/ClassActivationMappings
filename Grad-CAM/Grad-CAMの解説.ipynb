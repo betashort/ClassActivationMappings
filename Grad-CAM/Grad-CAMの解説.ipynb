{
 "cells": [
  {
   "cell_type": "markdown",
   "metadata": {},
   "source": [
    "# Grad-CAM\n",
    "- https://github.com/betashort/pytorch-grad-cam/blob/master/gradcam.py"
   ]
  },
  {
   "cell_type": "code",
   "execution_count": 51,
   "metadata": {},
   "outputs": [],
   "source": [
    "import torch\n",
    "import torch.nn as nn\n",
    "import torch.optim as optim\n",
    "\n",
    "from torch.autograd import Function"
   ]
  },
  {
   "cell_type": "markdown",
   "metadata": {},
   "source": [
    "## ResNet\n",
    "- https://github.com/pytorch/vision/blob/master/torchvision/models/resnet.py\n",
    "\n",
    "## PyTorch's Global Pooling\n",
    "https://www.テクめも.com/entry/pytorch-pooling\n",
    "\n",
    "\n",
    "- adaptive_max_pool2d(x, (1,1)\n",
    "- adaptive_avg_pool2d(x, (1,1))\n",
    "\n",
    "ResNetのConv層=>Dense層は、adaptive_avg_pool2d((1,1))になっているので、Global Average Poolingである。"
   ]
  },
  {
   "cell_type": "code",
   "execution_count": null,
   "metadata": {},
   "outputs": [],
   "source": [
    "# Can work with any model, but it assumes that the model has a\n",
    "# feature method, and a classifier method,\n",
    "# as in the VGG models in torchvision.\n",
    "model = models.resnet50(pretrained=True)\n",
    "\n",
    "\n",
    "grad_cam = GradCam(model=model, \n",
    "                   feature_module=model.layer4,\n",
    "                   target_layer_names=[\"2\"], \n",
    "                   use_cuda=args.use_cuda)\n",
    "\n",
    "#feature_module => ResNetのlayer4は、最終のCov層\n",
    "#https://github.com/pytorch/vision/blob/master/torchvision/models/resnet.py\n",
    "#target_layer_names =>\n",
    "#use_cuda => GPUの話\n",
    "\n",
    "#==== 画像の読み込みと前処理 ====\n",
    "img = cv2.imread(args.image_path, 1)\n",
    "img = np.float32(cv2.resize(img, (224, 224))) / 255\n",
    "input = preprocess_image(img)\n",
    "\n",
    "#==== Grad-CAM =====\n",
    "# If None, returns the map for the highest scoring category.\n",
    "# Otherwise, targets the requested index.\n",
    "\n",
    "#画像のターゲットが分からなかったら、Noneにしておく\n",
    "\n",
    "target_index = None\n",
    "mask = grad_cam(input, target_index)\n",
    "\n",
    "show_cam_on_image(img, mask)\n",
    "\n",
    "#==== Guided BackPropagation ====\n",
    "gb_model = GuidedBackpropReLUModel(model=model, use_cuda=args.use_cuda)\n",
    "print(model._modules.items())\n",
    "\n",
    "#gbはnumpyで返却される => Transposeで軸を入れ替える\n",
    "gb = gb_model(input, index=target_index)\n",
    "gb = gb.transpose((1, 2, 0))\n",
    "\n",
    "#mask画像を3channelの画像にする\n",
    "cam_mask = cv2.merge([mask, mask, mask])\n",
    "#Grad-CAMとGuided BackPropagationの結果を掛け合わせる\n",
    "cam_gb = deprocess_image(cam_mask*gb)\n",
    "gb = deprocess_image(gb)\n",
    "\n",
    "cv2.imwrite('gb.jpg', gb)\n",
    "cv2.imwrite('cam_gb.jpg', cam_gb)"
   ]
  },
  {
   "cell_type": "markdown",
   "metadata": {},
   "source": [
    "# \\_\\_call\\_\\_とは？\n",
    "\n",
    "- https://qiita.com/ko-da-k/items/439d8cc3a0424c45214a\n",
    "\n",
    "クラスインスタンスを関数として呼び出すことができる\n",
    "\n",
    "\\_\\_init\\_\\_は、インスタンス生成時に呼び出される"
   ]
  },
  {
   "cell_type": "code",
   "execution_count": 59,
   "metadata": {},
   "outputs": [],
   "source": [
    "class A:\n",
    "    def __init__(self, x):\n",
    "        self.x = x\n",
    "        print(\"__init__:\", self.x)\n",
    "        \n",
    "    def __call__(self, y):\n",
    "        self.y = y\n",
    "        print(\"__call__:\", self.y)\n",
    "    \n",
    "    def a_method(self, z):\n",
    "        self.z = z\n",
    "        print(\"a_func:\", self.z)\n",
    "        "
   ]
  },
  {
   "cell_type": "code",
   "execution_count": 60,
   "metadata": {},
   "outputs": [
    {
     "name": "stdout",
     "output_type": "stream",
     "text": [
      "__init__: 1\n"
     ]
    }
   ],
   "source": [
    "a = A(1)"
   ]
  },
  {
   "cell_type": "code",
   "execution_count": 61,
   "metadata": {},
   "outputs": [
    {
     "name": "stdout",
     "output_type": "stream",
     "text": [
      "__call__: 2\n"
     ]
    }
   ],
   "source": [
    "a(2)"
   ]
  },
  {
   "cell_type": "code",
   "execution_count": 62,
   "metadata": {},
   "outputs": [
    {
     "name": "stdout",
     "output_type": "stream",
     "text": [
      "a_func: 3\n"
     ]
    }
   ],
   "source": [
    "a.a_method(3)"
   ]
  },
  {
   "cell_type": "markdown",
   "metadata": {},
   "source": [
    "# FeatureExtractor"
   ]
  },
  {
   "cell_type": "code",
   "execution_count": null,
   "metadata": {},
   "outputs": [],
   "source": [
    "class FeatureExtractor():\n",
    "    \"\"\" Class for extracting activations and \n",
    "    registering gradients from targetted intermediate layers \"\"\"\n",
    "\n",
    "    def __init__(self, model, target_layers):\n",
    "        self.model = model\n",
    "        self.target_layers = target_layers\n",
    "        self.gradients = []\n",
    "\n",
    "    def save_gradient(self, grad):\n",
    "        self.gradients.append(grad)\n",
    "\n",
    "    def __call__(self, x):\n",
    "        outputs = []\n",
    "        self.gradients = []\n",
    "        #self.model._modules.items() => \n",
    "        #https://blog.snowhork.com/2018/08/pytorch-parameters\n",
    "        #torch.nn.Moduleは， __init__ 時に，\n",
    "        #_parameters と _modules というインスタンス変数を OrderedDict で初期化しています\n",
    "        #_modulesは、変数名,　構成する層が解ってくる\n",
    "        \n",
    "        for name, module in self.model._modules.items():\n",
    "            x = module(x)\n",
    "            \n",
    "            #register_hookとは？\n",
    "            #特定の学習時間におけるパラメータの特定の誤差を記録することができる\n",
    "            #勾配記録を\n",
    "            if name in self.target_layers:\n",
    "                x.register_hook(self.save_gradient)\n",
    "                outputs += [x]\n",
    "        return outputs, x"
   ]
  },
  {
   "cell_type": "markdown",
   "metadata": {},
   "source": [
    "# self.model._modulesとは？"
   ]
  },
  {
   "cell_type": "code",
   "execution_count": 4,
   "metadata": {},
   "outputs": [],
   "source": [
    "class Net(nn.Module):\n",
    "    def __init__(self):\n",
    "        super(Net, self).__init__()\n",
    "        self.conv1 = nn.Conv1d(1, 6, 5)\n",
    "        self.bn1 = nn.BatchNorm1d(6)\n",
    "        self.conv2 = nn.Conv1d(6, 16, 1)\n",
    "        self.bn2 = nn.BatchNorm1d(16)\n",
    "        self.fc1 = nn.Linear(16 * 996, 120)\n",
    "        self.bn3 = nn.BatchNorm1d(120)\n",
    "        self.fc2 = nn.Linear(120, 84)\n",
    "        self.bn4 = nn.BatchNorm1d(84)\n",
    "        self.fc3 = nn.Linear(84, 4)\n",
    "\n",
    "    def forward(self, x):\n",
    "        x = F.relu(self.bn1(self.conv1(x)))\n",
    "        x = F.relu(self.bn2(self.conv2(x)))\n",
    "        x = torch.flatten(x, 1)\n",
    "        x = F.relu(self.bn3(self.fc1(x)))\n",
    "        x = F.relu(self.bn4(self.fc2(x)))\n",
    "        x = F.relu(self.fc3(x))\n",
    "        return x"
   ]
  },
  {
   "cell_type": "code",
   "execution_count": 5,
   "metadata": {},
   "outputs": [],
   "source": [
    "model = Net()"
   ]
  },
  {
   "cell_type": "code",
   "execution_count": 10,
   "metadata": {},
   "outputs": [
    {
     "name": "stdout",
     "output_type": "stream",
     "text": [
      "conv1 Conv1d(1, 6, kernel_size=(5,), stride=(1,))\n",
      "bn1 BatchNorm1d(6, eps=1e-05, momentum=0.1, affine=True, track_running_stats=True)\n",
      "conv2 Conv1d(6, 16, kernel_size=(1,), stride=(1,))\n",
      "bn2 BatchNorm1d(16, eps=1e-05, momentum=0.1, affine=True, track_running_stats=True)\n",
      "fc1 Linear(in_features=15936, out_features=120, bias=True)\n",
      "bn3 BatchNorm1d(120, eps=1e-05, momentum=0.1, affine=True, track_running_stats=True)\n",
      "fc2 Linear(in_features=120, out_features=84, bias=True)\n",
      "bn4 BatchNorm1d(84, eps=1e-05, momentum=0.1, affine=True, track_running_stats=True)\n",
      "fc3 Linear(in_features=84, out_features=4, bias=True)\n"
     ]
    }
   ],
   "source": [
    "for i, s in model._modules.items():\n",
    "    print(i, s)"
   ]
  },
  {
   "cell_type": "markdown",
   "metadata": {},
   "source": [
    "# register_hookとは？\n",
    "\n",
    "- https://www.kaggle.com/sironghuang/understanding-pytorch-hooks\n",
    "\n",
    "特定の学習時間におけるパラメータの特定の誤差を記録すること(勾配記録)ができる"
   ]
  },
  {
   "cell_type": "markdown",
   "metadata": {},
   "source": [
    "by : https://discuss.pytorch.org/t/what-are-hooks-used-for/40020"
   ]
  },
  {
   "cell_type": "code",
   "execution_count": 40,
   "metadata": {},
   "outputs": [],
   "source": [
    "x = torch.randn(1, 1)\n",
    "w = torch.randn(1, 1, requires_grad=True)\n",
    "y = torch.randn(1, 1)"
   ]
  },
  {
   "cell_type": "code",
   "execution_count": 41,
   "metadata": {},
   "outputs": [
    {
     "data": {
      "text/plain": [
       "<torch.utils.hooks.RemovableHandle at 0x7fcbc519f4d0>"
      ]
     },
     "execution_count": 41,
     "metadata": {},
     "output_type": "execute_result"
    }
   ],
   "source": [
    "w.register_hook(lambda x, param_name=\"w_params\" : print(param_name, x))"
   ]
  },
  {
   "cell_type": "code",
   "execution_count": 42,
   "metadata": {},
   "outputs": [],
   "source": [
    "out = x * w"
   ]
  },
  {
   "cell_type": "code",
   "execution_count": 43,
   "metadata": {},
   "outputs": [],
   "source": [
    "loss = (out - y)**2"
   ]
  },
  {
   "cell_type": "code",
   "execution_count": 44,
   "metadata": {},
   "outputs": [
    {
     "name": "stdout",
     "output_type": "stream",
     "text": [
      "Loss tensor([[0.1000]])\n",
      "w_params tensor([[0.0715]])\n"
     ]
    }
   ],
   "source": [
    "# same script as above\n",
    "my_param = \"Loss\"\n",
    "loss.register_hook(lambda x, my_param=my_param: print(my_param, x))\n",
    "loss.mean().backward(gradient=torch.tensor(0.1)) "
   ]
  },
  {
   "cell_type": "markdown",
   "metadata": {},
   "source": [
    "# ModelOutputs"
   ]
  },
  {
   "cell_type": "code",
   "execution_count": null,
   "metadata": {},
   "outputs": [],
   "source": [
    "class ModelOutputs():\n",
    "    \"\"\" Class for making a forward pass, and getting:\n",
    "    1. The network output.\n",
    "    2. Activations from intermeddiate targetted layers.\n",
    "    3. Gradients from intermeddiate targetted layers. \"\"\"\n",
    "\n",
    "    def __init__(self, model, feature_module, target_layers):\n",
    "        self.model = model\n",
    "        self.feature_module = feature_module\n",
    "        self.feature_extractor = FeatureExtractor(self.feature_module, target_layers)\n",
    "\n",
    "    def get_gradients(self):\n",
    "        return self.feature_extractor.gradients\n",
    "\n",
    "    def __call__(self, x):\n",
    "        target_activations = []\n",
    "        for name, module in self.model._modules.items():\n",
    "            if module == self.feature_module:\n",
    "                target_activations, x = self.feature_extractor(x)\n",
    "            elif \"avgpool\" in name.lower():\n",
    "                x = module(x)\n",
    "                x = x.view(x.size(0),-1)\n",
    "            else:\n",
    "                x = module(x)\n",
    "        \n",
    "        return target_activations, x\n"
   ]
  },
  {
   "cell_type": "markdown",
   "metadata": {},
   "source": [
    "# Grad-CAM"
   ]
  },
  {
   "cell_type": "code",
   "execution_count": null,
   "metadata": {},
   "outputs": [],
   "source": [
    "class GradCam:\n",
    "    def __init__(self, model, feature_module, target_layer_names, use_cuda):\n",
    "        #model => resnet50\n",
    "        #feature_module=model.layer4\n",
    "        #target_layer_names => [\"2\"]\n",
    "\n",
    "        self.model = model\n",
    "        self.feature_module = feature_module\n",
    "        self.model.eval()\n",
    "        self.cuda = use_cuda\n",
    "        if self.cuda:\n",
    "            self.model = model.cuda()\n",
    "            \n",
    "         #ModelOutputs => FeatureExtractor()\n",
    "        self.extractor = ModelOutputs(self.model, self.feature_module, target_layer_names)\n",
    "\n",
    "    \n",
    "    \n",
    "    def forward(self, input):\n",
    "        # If None, returns the map for the highest scoring category.\n",
    "        # Otherwise, targets the requested index.\n",
    "        #target_index = None\n",
    "        #input => image(画像)\n",
    "        #mask = grad_cam(input, target_index)\n",
    "        \n",
    "        return self.model(input)\n",
    "\n",
    "    def __call__(self, input, index=None):\n",
    "        if self.cuda:\n",
    "            features, output = self.extractor(input.cuda())\n",
    "        else:\n",
    "            features, output = self.extractor(input)\n",
    "\n",
    "        if index == None:\n",
    "            index = np.argmax(output.cpu().data.numpy())\n",
    "\n",
    "        one_hot = np.zeros((1, output.size()[-1]), dtype=np.float32)\n",
    "        \n",
    "        #targetのインデックスに1をする\n",
    "        one_hot[0][index] = 1\n",
    "        #torch型に変換\n",
    "        one_hot = torch.from_numpy(one_hot).requires_grad_(True)\n",
    "        \n",
    "        if self.cuda:\n",
    "            one_hot = torch.sum(one_hot.cuda() * output)\n",
    "        else:\n",
    "            one_hot = torch.sum(one_hot * output)\n",
    "            \n",
    "        #lfeature_module\n",
    "        self.feature_module.zero_grad()\n",
    "        self.model.zero_grad()\n",
    "        one_hot.backward(retain_graph=True)\n",
    "        \n",
    "        \n",
    "        grads_val = self.extractor.get_gradients()[-1].cpu().data.numpy()\n",
    "\n",
    "        target = features[-1]\n",
    "        target = target.cpu().data.numpy()[0, :]\n",
    "\n",
    "        weights = np.mean(grads_val, axis=(2, 3))[0, :]\n",
    "        cam = np.zeros(target.shape[1:], dtype=np.float32)\n",
    "\n",
    "        for i, w in enumerate(weights):\n",
    "            cam += w * target[i, :, :]\n",
    "            \n",
    "        #ReLU関数\n",
    "        cam = np.maximum(cam, 0)\n",
    "        \n",
    "        cam = cv2.resize(cam, input.shape[2:])\n",
    "        \n",
    "        #0~1に正規化\n",
    "        cam = cam - np.min(cam)\n",
    "        cam = cam / np.max(cam)\n",
    "        \n",
    "        return cam"
   ]
  },
  {
   "cell_type": "markdown",
   "metadata": {},
   "source": [
    "# zero_grad()とは？"
   ]
  },
  {
   "cell_type": "markdown",
   "metadata": {},
   "source": [
    "# Guided BackPropagation"
   ]
  },
  {
   "cell_type": "markdown",
   "metadata": {},
   "source": [
    "# Guided BackPropagationReLUの定義"
   ]
  },
  {
   "cell_type": "code",
   "execution_count": 52,
   "metadata": {},
   "outputs": [],
   "source": [
    "class GuidedBackpropReLU(Function):\n",
    "\n",
    "    @staticmethod\n",
    "    def forward(self, input):\n",
    "        positive_mask = (input > 0).type_as(input)\n",
    "        output = torch.addcmul(torch.zeros(input.size()).type_as(input), input, positive_mask)\n",
    "        self.save_for_backward(input, output)\n",
    "        return output\n",
    "\n",
    "    @staticmethod\n",
    "    def backward(self, grad_output):\n",
    "        input, output = self.saved_tensors\n",
    "        grad_input = None\n",
    "\n",
    "        positive_mask_1 = (input > 0).type_as(grad_output)\n",
    "        positive_mask_2 = (grad_output > 0).type_as(grad_output)\n",
    "        grad_input = torch.addcmul(torch.zeros(input.size()).type_as(input),\n",
    "                                   torch.addcmul(torch.zeros(input.size()).type_as(input), grad_output,\n",
    "                                                 positive_mask_1), positive_mask_2)\n",
    "\n",
    "        return grad_input\n"
   ]
  },
  {
   "cell_type": "markdown",
   "metadata": {},
   "source": [
    "# torch.autograd.Functionとは？\n",
    "- https://pytorch.org/tutorials/beginner/examples_autograd/two_layer_net_custom_function.html\n",
    "\n",
    "## A. 新しい自動微分の関数を作るときに使う(継承)\n",
    "\n",
    "# @staticmethodとは\n",
    "\n",
    "- https://torch.classcat.com/2018/05/26/pytorch-docs-notes-extending/\n",
    "\n",
    "foward と backward の両者は @staticmethod である\n",
    "\n",
    "- https://qiita.com/msrks/items/fdc9afd12effc2cba1bc\n",
    "\n",
    "\n",
    "- classmethod: クラス変数にアクセスすべきときや、継承クラスで動作が変わるべきときは classmethodを使おう。\n",
    "- staticmethod: 継承クラスでも動作が変わらないときはstaticmethodを使おう"
   ]
  },
  {
   "cell_type": "markdown",
   "metadata": {},
   "source": [
    "# Guided BackPropagationReLU Module"
   ]
  },
  {
   "cell_type": "code",
   "execution_count": null,
   "metadata": {},
   "outputs": [],
   "source": [
    "class GuidedBackpropReLUModel:\n",
    "    def __init__(self, model, use_cuda):\n",
    "        self.model = model\n",
    "        self.model.eval()\n",
    "        self.cuda = use_cuda\n",
    "        if self.cuda:\n",
    "            self.model = model.cuda()\n",
    "\n",
    "        def recursive_relu_apply(module_top):\n",
    "            for idx, module in module_top._modules.items():\n",
    "                recursive_relu_apply(module)\n",
    "                if module.__class__.__name__ == 'ReLU':\n",
    "                    module_top._modules[idx] = GuidedBackpropReLU.apply\n",
    "                \n",
    "        # replace ReLU with GuidedBackpropReLU\n",
    "        recursive_relu_apply(self.model)\n",
    "\n",
    "    def forward(self, input):\n",
    "        return self.model(input)\n",
    "\n",
    "    def __call__(self, input, index=None):\n",
    "        if self.cuda:\n",
    "            output = self.forward(input.cuda())\n",
    "        else:\n",
    "            output = self.forward(input)\n",
    "\n",
    "        if index == None:\n",
    "            index = np.argmax(output.cpu().data.numpy())\n",
    "\n",
    "        one_hot = np.zeros((1, output.size()[-1]), dtype=np.float32)\n",
    "        one_hot[0][index] = 1\n",
    "        one_hot = torch.from_numpy(one_hot).requires_grad_(True)\n",
    "        if self.cuda:\n",
    "            one_hot = torch.sum(one_hot.cuda() * output)\n",
    "        else:\n",
    "            one_hot = torch.sum(one_hot * output)\n",
    "\n",
    "        # self.model.features.zero_grad()\n",
    "        # self.model.classifier.zero_grad()\n",
    "        one_hot.backward(retain_graph=True)\n",
    "\n",
    "        output = input.grad.cpu().data.numpy()\n",
    "        output = output[0, :, :, :]\n",
    "\n",
    "        return output"
   ]
  },
  {
   "cell_type": "code",
   "execution_count": null,
   "metadata": {},
   "outputs": [],
   "source": []
  },
  {
   "cell_type": "markdown",
   "metadata": {},
   "source": [
    "# 画像に関するメソッド"
   ]
  },
  {
   "cell_type": "markdown",
   "metadata": {},
   "source": [
    "## 画像の前処理"
   ]
  },
  {
   "cell_type": "code",
   "execution_count": null,
   "metadata": {},
   "outputs": [],
   "source": [
    "def preprocess_image(img):\n",
    "    means = [0.485, 0.456, 0.406]\n",
    "    stds = [0.229, 0.224, 0.225]\n",
    "\n",
    "    preprocessed_img = img.copy()[:, :, ::-1]\n",
    "    for i in range(3):\n",
    "        preprocessed_img[:, :, i] = preprocessed_img[:, :, i] - means[i]\n",
    "        preprocessed_img[:, :, i] = preprocessed_img[:, :, i] / stds[i]\n",
    "    preprocessed_img = \\\n",
    "        np.ascontiguousarray(np.transpose(preprocessed_img, (2, 0, 1)))\n",
    "    preprocessed_img = torch.from_numpy(preprocessed_img)\n",
    "    preprocessed_img.unsqueeze_(0)\n",
    "    input = preprocessed_img.requires_grad_(True)\n",
    "    return input"
   ]
  },
  {
   "cell_type": "markdown",
   "metadata": {},
   "source": [
    "## 画像とCAMを重ねる(元の画像+CAMのヒートマップ)"
   ]
  },
  {
   "cell_type": "code",
   "execution_count": null,
   "metadata": {},
   "outputs": [],
   "source": [
    "def show_cam_on_image(img, mask):\n",
    "    heatmap = cv2.applyColorMap(np.uint8(255 * mask), cv2.COLORMAP_JET)\n",
    "    heatmap = np.float32(heatmap) / 255\n",
    "    cam = heatmap + np.float32(img)\n",
    "    cam = cam / np.max(cam)\n",
    "    cv2.imwrite(\"cam.jpg\", np.uint8(255 * cam))"
   ]
  },
  {
   "cell_type": "markdown",
   "metadata": {},
   "source": [
    "## 画像を前処理の前に戻す"
   ]
  },
  {
   "cell_type": "code",
   "execution_count": null,
   "metadata": {},
   "outputs": [],
   "source": [
    "def deprocess_image(img):\n",
    "    \"\"\" see https://github.com/jacobgil/keras-grad-cam/blob/master/grad-cam.py#L65 \"\"\"\n",
    "    img = img - np.mean(img)\n",
    "    img = img / (np.std(img) + 1e-5)\n",
    "    img = img * 0.1\n",
    "    img = img + 0.5\n",
    "    img = np.clip(img, 0, 1)\n",
    "    return np.uint8(img*255)"
   ]
  }
 ],
 "metadata": {
  "kernelspec": {
   "display_name": "Python 3",
   "language": "python",
   "name": "python3"
  },
  "language_info": {
   "codemirror_mode": {
    "name": "ipython",
    "version": 3
   },
   "file_extension": ".py",
   "mimetype": "text/x-python",
   "name": "python",
   "nbconvert_exporter": "python",
   "pygments_lexer": "ipython3",
   "version": "3.7.5"
  }
 },
 "nbformat": 4,
 "nbformat_minor": 4
}
